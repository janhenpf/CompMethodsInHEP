{
 "cells": [
  {
   "cell_type": "code",
   "execution_count": 1,
   "metadata": {},
   "outputs": [],
   "source": [
    "import os\n",
    "import subprocess"
   ]
  },
  {
   "cell_type": "code",
   "execution_count": 2,
   "metadata": {},
   "outputs": [],
   "source": [
    "base_cmd = \"wsl\" # Windows subsystem for Linux\n",
    "exe_dir = \"/mnt/c/Users/janhe/CompMethodsInHEP/Exercise2/\" # directory where the executable is found"
   ]
  },
  {
   "cell_type": "code",
   "execution_count": 3,
   "metadata": {},
   "outputs": [],
   "source": [
    "def command(number):\n",
    "    #path of the executable:\n",
    "    exe_path = os.path.join(exe_dir, 'exercise2')\n",
    "    #command line:\n",
    "    cmd_str = f\"{base_cmd} {exe_path} {number}\"\n",
    "    cmd = cmd_str.split(' ')\n",
    "    process = subprocess.Popen(cmd, shell=True, stdout=subprocess.PIPE)\n",
    "    out, err = process.communicate()\n",
    "    return out.decode()"
   ]
  },
  {
   "cell_type": "code",
   "execution_count": 4,
   "metadata": {},
   "outputs": [
    {
     "data": {
      "text/plain": [
       "'Hello world 2\\n'"
      ]
     },
     "execution_count": 4,
     "metadata": {},
     "output_type": "execute_result"
    }
   ],
   "source": [
    "command(2)"
   ]
  },
  {
   "cell_type": "code",
   "execution_count": 5,
   "metadata": {},
   "outputs": [],
   "source": [
    "def createfile(number):\n",
    "    hello = f\"hello_{number}.txt\"\n",
    "    with open(hello,'w') as file:\n",
    "        file.write(command(number))"
   ]
  },
  {
   "cell_type": "code",
   "execution_count": 6,
   "metadata": {},
   "outputs": [],
   "source": [
    "createfile(2)"
   ]
  },
  {
   "cell_type": "code",
   "execution_count": null,
   "metadata": {},
   "outputs": [],
   "source": []
  }
 ],
 "metadata": {
  "kernelspec": {
   "display_name": "Python 3",
   "language": "python",
   "name": "python3"
  },
  "language_info": {
   "codemirror_mode": {
    "name": "ipython",
    "version": 3
   },
   "file_extension": ".py",
   "mimetype": "text/x-python",
   "name": "python",
   "nbconvert_exporter": "python",
   "pygments_lexer": "ipython3",
   "version": "3.7.4"
  }
 },
 "nbformat": 4,
 "nbformat_minor": 2
}
